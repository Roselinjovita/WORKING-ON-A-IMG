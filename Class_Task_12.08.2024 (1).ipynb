{
 "cells": [
  {
   "cell_type": "code",
   "execution_count": 1,
   "id": "a62bdaf2-9cc4-437a-9090-3cf86b0b736f",
   "metadata": {},
   "outputs": [
    {
     "name": "stdout",
     "output_type": "stream",
     "text": [
      "Requirement already satisfied: opencv-contrib-python in c:\\users\\sec\\anaconda3\\lib\\site-packages (4.10.0.84)\n",
      "Requirement already satisfied: numpy>=1.21.2 in c:\\users\\sec\\anaconda3\\lib\\site-packages (from opencv-contrib-python) (1.26.4)\n",
      "Note: you may need to restart the kernel to use updated packages.\n"
     ]
    }
   ],
   "source": [
    "pip install opencv-contrib-python"
   ]
  },
  {
   "cell_type": "code",
   "execution_count": 3,
   "id": "8b06df24-18c4-446e-a449-3c0d07af054e",
   "metadata": {},
   "outputs": [],
   "source": [
    "import cv2"
   ]
  },
  {
   "cell_type": "code",
   "execution_count": 4,
   "id": "10f8266c-2fe0-4242-a0ef-3a5da9108ecf",
   "metadata": {},
   "outputs": [],
   "source": [
    "# Load the images\n",
    "image1 = cv2.imread('nobi.jpg')\n",
    "image2 = cv2.imread('dor.jpg')\n"
   ]
  },
  {
   "cell_type": "code",
   "execution_count": 7,
   "id": "1a261e28-f7f0-4ac3-be8e-756afdbff5c0",
   "metadata": {},
   "outputs": [
    {
     "data": {
      "text/plain": [
       "(1640, 1920, 3)"
      ]
     },
     "execution_count": 7,
     "metadata": {},
     "output_type": "execute_result"
    }
   ],
   "source": [
    "image1.shape"
   ]
  },
  {
   "cell_type": "code",
   "execution_count": 9,
   "id": "7f07df9f-41f1-4f08-8f30-17ddd1cfea66",
   "metadata": {},
   "outputs": [
    {
     "data": {
      "text/plain": [
       "(600, 490, 3)"
      ]
     },
     "execution_count": 9,
     "metadata": {},
     "output_type": "execute_result"
    }
   ],
   "source": [
    "image2.shape"
   ]
  },
  {
   "cell_type": "code",
   "execution_count": 11,
   "id": "9a52bf80-cd9e-40ca-b4ce-b2e5cf0d9e69",
   "metadata": {},
   "outputs": [],
   "source": [
    "# Resize both images to the desired size (530, 412)\n",
    "new_size = (500, 530)  # (width, height)\n",
    "image1_resized = cv2.resize(image1, new_size)\n",
    "image2_resized = cv2.resize(image2, new_size)"
   ]
  },
  {
   "cell_type": "code",
   "execution_count": 13,
   "id": "f9f68401-7009-481b-a36c-11aca7635d3b",
   "metadata": {},
   "outputs": [],
   "source": [
    "height,width,c=image1.shape\n",
    "row_mid=265\n",
    "col_mid=250"
   ]
  },
  {
   "cell_type": "code",
   "execution_count": 15,
   "id": "abd242e4-4d66-454e-9b3b-5fbe51614b2f",
   "metadata": {},
   "outputs": [],
   "source": [
    "# Split the image into 4 regions using row and column coordinates\n",
    "R1 = image1_resized[0:row_mid, 0:col_mid]      # Top-left region\n",
    "R2 = image1_resized[0:row_mid, col_mid:width]  # Top-right region\n",
    "R3 = image1_resized[row_mid:height, 0:col_mid] # Bottom-left region\n",
    "R4 = image1_resized[row_mid:height, col_mid:width] # Bottom-right region\n"
   ]
  },
  {
   "cell_type": "code",
   "execution_count": 17,
   "id": "f83f6ff6-bdb6-48f1-8dde-994804406315",
   "metadata": {},
   "outputs": [],
   "source": [
    "R5 = image2_resized[0:row_mid, 0:col_mid]      # Top-left region\n",
    "R6 = image2_resized[0:row_mid, col_mid:width]  # Top-right region\n",
    "R7 = image2_resized[row_mid:height, 0:col_mid] # Bottom-left region\n",
    "R8 = image2_resized[row_mid:height, col_mid:width] # Bottom-right region"
   ]
  },
  {
   "cell_type": "code",
   "execution_count": 19,
   "id": "167967a0-a4a8-48b8-bc4f-cbb00dff04ed",
   "metadata": {},
   "outputs": [],
   "source": [
    "#Splitting the Image Using Coordinates:\n",
    "\n",
    "#R1: Top-left region ([0:265, 0:206])\n",
    "#R2: Top-right region ([0:265, 206:413])\n",
    "#R3: Bottom-left region ([265:531, 0:206])\n",
    "#R4: Bottom-right region ([265:531, 206:413])"
   ]
  },
  {
   "cell_type": "code",
   "execution_count": 21,
   "id": "c17a225e-ebf0-4489-8fe5-74f7ca042d93",
   "metadata": {},
   "outputs": [
    {
     "data": {
      "text/plain": [
       "True"
      ]
     },
     "execution_count": 21,
     "metadata": {},
     "output_type": "execute_result"
    }
   ],
   "source": [
    "# Save the regions as separate images\n",
    "cv2.imwrite('R1.jpg', R1)\n",
    "cv2.imwrite('R2.jpg', R2)\n",
    "cv2.imwrite('R3.jpg', R3)\n",
    "cv2.imwrite('R4.jpg', R4)"
   ]
  },
  {
   "cell_type": "code",
   "execution_count": 23,
   "id": "2925dc77-dce6-47d4-907b-0b43f1245f7e",
   "metadata": {},
   "outputs": [
    {
     "data": {
      "text/plain": [
       "True"
      ]
     },
     "execution_count": 23,
     "metadata": {},
     "output_type": "execute_result"
    }
   ],
   "source": [
    "cv2.imwrite('R5.jpg', R5)\n",
    "cv2.imwrite('R6.jpg', R6)\n",
    "cv2.imwrite('R7.jpg', R7)\n",
    "cv2.imwrite('R8.jpg', R8)"
   ]
  },
  {
   "cell_type": "code",
   "execution_count": 25,
   "id": "0bc27853-d994-4d11-935c-0ce11e5644ab",
   "metadata": {},
   "outputs": [],
   "source": [
    "# Optionally, display the regions (for verification)\n",
    "cv2.imshow('R1', R1)\n",
    "cv2.imshow('R2', R2)\n",
    "cv2.imshow('R3', R3)\n",
    "cv2.imshow('R4', R4)\n",
    "cv2.waitKey(0)\n",
    "cv2.destroyAllWindows()"
   ]
  },
  {
   "cell_type": "code",
   "execution_count": 26,
   "id": "2dc5e80e-31b3-40f0-8885-823eb73a496c",
   "metadata": {},
   "outputs": [],
   "source": [
    "cv2.imshow('R5', R5)\n",
    "cv2.imshow('R6', R6)\n",
    "cv2.imshow('R7', R7)\n",
    "cv2.imshow('R8', R8)\n",
    "cv2.waitKey(0)\n",
    "cv2.destroyAllWindows()"
   ]
  },
  {
   "cell_type": "code",
   "execution_count": 27,
   "id": "8cfbddfe-1ec3-4796-93bb-15b369590172",
   "metadata": {},
   "outputs": [],
   "source": [
    "# Swap region 1 of image1 with region 4 of image2\n",
    "image1_resized[0:row_mid, 0:col_mid] = R5\n",
    "image2_resized[row_mid:height, col_mid:width] = R4"
   ]
  },
  {
   "cell_type": "code",
   "execution_count": null,
   "id": "fe16aded-abb3-4918-9e38-4f7e7ea09aba",
   "metadata": {},
   "outputs": [],
   "source": [
    "# Display the resized images\n",
    "cv2.imshow('Resized Image 1', image1_resized)\n",
    "cv2.imshow('Resized Image 2', image2_resized)\n",
    "cv2.waitKey(0)\n",
    "cv2.destroyAllWindows()"
   ]
  },
  {
   "cell_type": "code",
   "execution_count": null,
   "id": "54e2cf63-fdc3-4cc4-98c9-099fac9757cd",
   "metadata": {},
   "outputs": [],
   "source": [
    "import cv2\n",
    "\n",
    "# Load the images\n",
    "image1 = cv2.imread('img1.jpg')\n",
    "image2 = cv2.imread('dor.jpg')\n",
    "\n",
    "# Check if the images are loaded successfully\n",
    "if image1 is None or image2 is None:\n",
    "    print(\"Error: Could not load one or both images. Please check the file paths.\")\n",
    "    sys.exit()\n",
    "\n",
    "# Since both images are the same size (531, 413, 3)\n",
    "height, width, _ = image1.shape  # (531, 413, 3)\n",
    "\n",
    "# Define row and column midpoints for splitting\n",
    "row_mid = height // 2  # 265\n",
    "col_mid = width // 2   # 206\n",
    "\n",
    "# Adjusting the dimensions to ensure matching regions\n",
    "row_mid = height - row_mid  # 266\n",
    "col_mid = width - col_mid   # 207\n",
    "\n",
    "# Split image1 into 4 regions\n",
    "R1 = image1[0:row_mid, 0:col_mid]      # Top-left region of image1\n",
    "R2 = image1[0:row_mid, col_mid:width]  # Top-right region of image1\n",
    "R3 = image1[row_mid:height, 0:col_mid] # Bottom-left region of image1\n",
    "R4 = image1[row_mid:height, col_mid:width] # Bottom-right region of image1\n",
    "\n",
    "# Split image2 into 4 regions\n",
    "R5 = image2[0:row_mid, 0:col_mid]      # Top-left region of image2\n",
    "R6 = image2[0:row_mid, col_mid:width]  # Top-right region of image2\n",
    "R7 = image2[row_mid:height, 0:col_mid] # Bottom-left region of image2\n",
    "R8 = image2[row_mid:height, col_mid:width] # Bottom-right region of image2\n",
    "\n",
    "# Swap regions between image1 and image2\n",
    "image1[0:row_mid, 0:col_mid] = R1  # Swap R1 with R8\n",
    "image2[row_mid:height, col_mid:width] = R1  # Swap R4 with R1\n",
    "\n",
    "# Display the swapped images\n",
    "cv2.imshow('Image 1 with Swap', image1)\n",
    "cv2.imshow('Image 2 with Swap', image2)\n",
    "cv2.waitKey(0)\n",
    "cv2.destroyAllWindows()\n",
    "\n",
    "# Save the modified images\n",
    "cv2.imwrite('modified_image1.jpg', image1)\n",
    "cv2.imwrite('modified_image2.jpg', image2)\n"
   ]
  },
  {
   "cell_type": "code",
   "execution_count": null,
   "id": "41ec1fc0-acb1-458a-b1e0-d869bddf6aa5",
   "metadata": {},
   "outputs": [],
   "source": [
    "import cv2\n",
    "\n",
    "# Load the images\n",
    "image1 = cv2.imread('img.jpg')\n",
    "image2 = cv2.imread('nobi.jpg')\n",
    "\n",
    "# Ensure both images have the same dimensions\n",
    "height1, width1, _ = image1.shape\n",
    "height2, width2, _ = image2.shape\n",
    "\n",
    "# Use the minimum dimensions of both images to avoid issues\n",
    "height = min(height1, height2)\n",
    "width = min(width1, width2)\n",
    "\n",
    "# Resize both images to the same dimensions\n",
    "image1 = cv2.resize(image1, (width, height))\n",
    "image2 = cv2.resize(image2, (width, height))\n",
    "\n",
    "# Define the midpoints for splitting the images\n",
    "mid_y, mid_x = height // 2, width // 2\n",
    "\n",
    "# Split image1 into 4 regions\n",
    "img1_region1 = image1[:mid_y, :mid_x]  # Top-left\n",
    "img1_region4 = image1[mid_y:, mid_x:]  # Bottom-right\n",
    "\n",
    "# Split image2 into 4 regions\n",
    "img2_region1 = image2[:mid_y, :mid_x]  # Top-left\n",
    "img2_region4 = image2[mid_y:, mid_x:]  # Bottom-right\n",
    "\n",
    "# Swap region 1 of image1 with region 4 of image2\n",
    "image1[:mid_y, :mid_x] = img2_region4\n",
    "image2[mid_y:, mid_x:] = img1_region1\n",
    "\n",
    "# Save the resulting images\n",
    "cv2.imwrite('output_image1.jpg', image1)\n",
    "cv2.imwrite('output_image2.jpg', image2)\n"
   ]
  },
  {
   "cell_type": "code",
   "execution_count": null,
   "id": "f5a39337-459c-4d47-93db-10a60e867230",
   "metadata": {},
   "outputs": [],
   "source": [
    "import cv2\n",
    "import sys\n",
    "\n",
    "# Load the images\n",
    "image1 = cv2.imread('img1.jpg')\n",
    "image2 = cv2.imread('nobi.jpg')\n",
    "\n",
    "# Check if the images were loaded successfully\n",
    "if image1 is None:\n",
    "    print(\"Error: Could not load image1. Please check the file path.\")\n",
    "    sys.exit()\n",
    "\n",
    "if image2 is None:\n",
    "    print(\"Error: Could not load image2. Please check the file path.\")\n",
    "    sys.exit()\n",
    "\n",
    "# Ensure both images have the same dimensions\n",
    "height1, width1, _ = image1.shape\n",
    "height2, width2, _ = image2.shape\n",
    "\n",
    "# Use the minimum dimensions of both images to avoid issues\n",
    "height = min(height1, height2)\n",
    "width = min(width1, width2)\n",
    "\n",
    "# Resize both images to the same dimensions\n",
    "image1 = cv2.resize(image1, (width, height))\n",
    "image2 = cv2.resize(image2, (width, height))\n",
    "\n",
    "# Define the midpoints for splitting the images\n",
    "mid_y, mid_x = height // 2, width // 2\n",
    "\n",
    "# Split image1 into 4 regions\n",
    "img1_region1 = image1[:mid_y, :mid_x]  # Top-left\n",
    "img1_region4 = image1[mid_y:, mid_x:]  # Bottom-right\n",
    "\n",
    "# Split image2 into 4 regions\n",
    "img2_region1 = image2[:mid_y, :mid_x]  # Top-left\n",
    "img2_region4 = image2[mid_y:, mid_x:]  # Bottom-right\n",
    "\n",
    "# Swap region 1 of image1 with region 4 of image2\n",
    "image1[:mid_y, :mid_x] = img2_region4\n",
    "image2[mid_y:, mid_x:] = img1_region1\n",
    "\n",
    "# Save the resulting images\n",
    "cv2.imwrite('output_image1.jpg', image1)\n",
    "cv2.imwrite('output_image2.jpg', image2)\n"
   ]
  }
 ],
 "metadata": {
  "kernelspec": {
   "display_name": "Python 3 (ipykernel)",
   "language": "python",
   "name": "python3"
  },
  "language_info": {
   "codemirror_mode": {
    "name": "ipython",
    "version": 3
   },
   "file_extension": ".py",
   "mimetype": "text/x-python",
   "name": "python",
   "nbconvert_exporter": "python",
   "pygments_lexer": "ipython3",
   "version": "3.12.4"
  }
 },
 "nbformat": 4,
 "nbformat_minor": 5
}
